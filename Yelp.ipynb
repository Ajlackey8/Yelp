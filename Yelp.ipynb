{
 "cells": [
  {
   "cell_type": "code",
   "execution_count": 1,
   "id": "a97a6c0f",
   "metadata": {},
   "outputs": [],
   "source": [
    "# Standard Imports\n",
    "import numpy as np\n",
    "import pandas as pd\n",
    "import matplotlib.pyplot as plt\n",
    "import seaborn as sns\n",
    "# Additional Imports\n",
    "import os, json, math, time\n",
    "from yelpapi import YelpAPI\n",
    "from tqdm.notebook import tqdm_notebook"
   ]
  },
  {
   "cell_type": "code",
   "execution_count": 2,
   "id": "4a7be9b7",
   "metadata": {},
   "outputs": [],
   "source": [
    "# Load API Credentials\n",
    "with open(\"C:\\\\Users\\\\alackey\\\\.secret\\\\yelp_api.json\") as f:   #use your path here!\n",
    "    login = json.load(f)\n",
    "# Instantiate YelpAPI Variable\n",
    "yelp_api = YelpAPI(login['api-key'], timeout_s=5.0)"
   ]
  },
  {
   "cell_type": "code",
   "execution_count": 3,
   "id": "ecb1cdd2",
   "metadata": {},
   "outputs": [],
   "source": [
    "# set our API call parameters and filename before the first call\n",
    "LOCATION = 'Edison, NJ,08817'\n",
    "TERM = 'Burger'"
   ]
  },
  {
   "cell_type": "code",
   "execution_count": 4,
   "id": "51593451",
   "metadata": {},
   "outputs": [
    {
     "data": {
      "text/plain": [
       "'C:\\\\Users\\\\alackey\\\\Data\\\\results_in_progress_burger.json'"
      ]
     },
     "execution_count": 4,
     "metadata": {},
     "output_type": "execute_result"
    }
   ],
   "source": [
    "JSON_FILE = f\"C:\\\\Users\\\\alackey\\\\Data\\\\results_in_progress_burger.json\"\n",
    "JSON_FILE"
   ]
  },
  {
   "cell_type": "code",
   "execution_count": 5,
   "id": "ca96bb33",
   "metadata": {},
   "outputs": [
    {
     "name": "stdout",
     "output_type": "stream",
     "text": [
      "[i] C:\\Users\\alackey\\Data\\results_in_progress_burger.json not found. Saving empty list to file.\n"
     ]
    }
   ],
   "source": [
    "## Check if JSON_FILE exists\n",
    "file_exists = os.path.isfile(JSON_FILE)\n",
    "## If it does not exist: \n",
    "if file_exists == False:\n",
    "    \n",
    "    ## CREATE ANY NEEDED FOLDERS\n",
    "    # Get the Folder Name only\n",
    "    folder = os.path.dirname(JSON_FILE)\n",
    "    ## If JSON_FILE included a folder:\n",
    "    if len(folder)>0:\n",
    "        # create the folder\n",
    "        os.makedirs(folder,exist_ok=True)\n",
    "        \n",
    "        \n",
    "    ## INFORM USER AND SAVE EMPTY LIST\n",
    "    print(f\"[i] {JSON_FILE} not found. Saving empty list to file.\")\n",
    "    \n",
    "    \n",
    "    ## save the first page of results\n",
    "    with open(JSON_FILE,'w') as f:\n",
    "        json.dump([],f)  \n",
    "## If it exists, inform user\n",
    "else:\n",
    "    print(f\"[i] {JSON_FILE} already exists.\")"
   ]
  },
  {
   "cell_type": "code",
   "execution_count": 6,
   "id": "b7a4afbf",
   "metadata": {},
   "outputs": [
    {
     "name": "stdout",
     "output_type": "stream",
     "text": [
      "- 0 previous results found.\n"
     ]
    }
   ],
   "source": [
    "with open(JSON_FILE,'r') as f:\n",
    "    previous_results = json.load(f)\n",
    "    \n",
    "## set offset based on previous results\n",
    "n_results = len(previous_results)\n",
    "print(f'- {n_results} previous results found.')"
   ]
  },
  {
   "cell_type": "code",
   "execution_count": 7,
   "id": "3e50c2ab",
   "metadata": {},
   "outputs": [
    {
     "data": {
      "text/plain": [
       "dict_keys(['businesses', 'total', 'region'])"
      ]
     },
     "execution_count": 7,
     "metadata": {},
     "output_type": "execute_result"
    }
   ],
   "source": [
    "# use our yelp_api variable's search_query method to perform our API call\n",
    "results = yelp_api.search_query(location=LOCATION,\n",
    "                                term=TERM,\n",
    "                               offset=n_results)\n",
    "results.keys()"
   ]
  },
  {
   "cell_type": "code",
   "execution_count": 8,
   "id": "c4b3e627",
   "metadata": {},
   "outputs": [
    {
     "data": {
      "text/plain": [
       "434"
      ]
     },
     "execution_count": 8,
     "metadata": {},
     "output_type": "execute_result"
    }
   ],
   "source": [
    "## How many results total?\n",
    "total_results = results['total']\n",
    "total_results"
   ]
  },
  {
   "cell_type": "code",
   "execution_count": 9,
   "id": "09e4ca52",
   "metadata": {},
   "outputs": [
    {
     "data": {
      "text/plain": [
       "20"
      ]
     },
     "execution_count": 9,
     "metadata": {},
     "output_type": "execute_result"
    }
   ],
   "source": [
    "## How many did we get the details for?\n",
    "results_per_page = len(results['businesses'])\n",
    "results_per_page"
   ]
  },
  {
   "cell_type": "code",
   "execution_count": 10,
   "id": "fce7a38d",
   "metadata": {},
   "outputs": [
    {
     "data": {
      "text/plain": [
       "22"
      ]
     },
     "execution_count": 10,
     "metadata": {},
     "output_type": "execute_result"
    }
   ],
   "source": [
    "# Import additional packages for controlling our loop\n",
    "import time, math\n",
    "# Use math.ceil to round up for the total number of pages of results.\n",
    "n_pages = math.ceil((results['total']-n_results)/ results_per_page)\n",
    "n_pages"
   ]
  },
  {
   "cell_type": "code",
   "execution_count": 11,
   "id": "c8e9254c",
   "metadata": {},
   "outputs": [],
   "source": [
    "# join new results with old list with extend and save to file\n",
    "previous_results.extend(results['businesses'])  \n",
    "with open(JSON_FILE,'w') as f:\n",
    "     json.dump(previous_results,f)"
   ]
  },
  {
   "cell_type": "code",
   "execution_count": 12,
   "id": "3f4bcb8f",
   "metadata": {},
   "outputs": [
    {
     "data": {
      "application/vnd.jupyter.widget-view+json": {
       "model_id": "0b87f800fb8848ac8779980c99ff8ff3",
       "version_major": 2,
       "version_minor": 0
      },
      "text/plain": [
       "  0%|          | 0/22 [00:00<?, ?it/s]"
      ]
     },
     "metadata": {},
     "output_type": "display_data"
    }
   ],
   "source": [
    "from tqdm.notebook import tqdm_notebook\n",
    "import time\n",
    "for i in tqdm_notebook(range(n_pages)):\n",
    "    # adds 200 ms pause\n",
    "    time.sleep(.2) "
   ]
  },
  {
   "cell_type": "code",
   "execution_count": 13,
   "id": "46495093",
   "metadata": {},
   "outputs": [
    {
     "data": {
      "application/vnd.jupyter.widget-view+json": {
       "model_id": "153342df07e04af58e00b720ba649e28",
       "version_major": 2,
       "version_minor": 0
      },
      "text/plain": [
       "  0%|          | 0/22 [00:00<?, ?it/s]"
      ]
     },
     "metadata": {},
     "output_type": "display_data"
    }
   ],
   "source": [
    "for i in tqdm_notebook( range(1,n_pages+1)):\n",
    "    time.sleep(.2)\n",
    "    ## Read in results in progress file and check the length\n",
    "    with open(JSON_FILE, 'r') as f:\n",
    "        previous_results = json.load(f)\n",
    "    ## save number of results for to use as offset\n",
    "    n_results = len(previous_results)\n",
    "    ## use n_results as the OFFSET \n",
    "    results = yelp_api.search_query(location=LOCATION,\n",
    "                                    term=TERM, \n",
    "                                    offset=n_results)\n",
    "    \n",
    "    ## append new results and save to file\n",
    "    previous_results.extend(results['businesses'])\n",
    "    \n",
    "#     display(previous_results)\n",
    "    with open(JSON_FILE,'w') as f:\n",
    "        json.dump(previous_results,f)"
   ]
  },
  {
   "cell_type": "code",
   "execution_count": 14,
   "id": "144b9aca",
   "metadata": {},
   "outputs": [
    {
     "data": {
      "text/html": [
       "<div>\n",
       "<style scoped>\n",
       "    .dataframe tbody tr th:only-of-type {\n",
       "        vertical-align: middle;\n",
       "    }\n",
       "\n",
       "    .dataframe tbody tr th {\n",
       "        vertical-align: top;\n",
       "    }\n",
       "\n",
       "    .dataframe thead th {\n",
       "        text-align: right;\n",
       "    }\n",
       "</style>\n",
       "<table border=\"1\" class=\"dataframe\">\n",
       "  <thead>\n",
       "    <tr style=\"text-align: right;\">\n",
       "      <th></th>\n",
       "      <th>id</th>\n",
       "      <th>alias</th>\n",
       "      <th>name</th>\n",
       "      <th>image_url</th>\n",
       "      <th>is_closed</th>\n",
       "      <th>url</th>\n",
       "      <th>review_count</th>\n",
       "      <th>categories</th>\n",
       "      <th>rating</th>\n",
       "      <th>coordinates</th>\n",
       "      <th>transactions</th>\n",
       "      <th>price</th>\n",
       "      <th>location</th>\n",
       "      <th>phone</th>\n",
       "      <th>display_phone</th>\n",
       "      <th>distance</th>\n",
       "    </tr>\n",
       "  </thead>\n",
       "  <tbody>\n",
       "    <tr>\n",
       "      <th>0</th>\n",
       "      <td>hmrXk8jrLredlvQmcYtvjA</td>\n",
       "      <td>418-burgers-highland-park</td>\n",
       "      <td>418 Burgers</td>\n",
       "      <td>https://s3-media4.fl.yelpcdn.com/bphoto/Kyh-RB...</td>\n",
       "      <td>False</td>\n",
       "      <td>https://www.yelp.com/biz/418-burgers-highland-...</td>\n",
       "      <td>202</td>\n",
       "      <td>[{'alias': 'tradamerican', 'title': 'American ...</td>\n",
       "      <td>4.5</td>\n",
       "      <td>{'latitude': 40.49993610299, 'longitude': -74....</td>\n",
       "      <td>[pickup, delivery]</td>\n",
       "      <td>$</td>\n",
       "      <td>{'address1': '418 Raritan Ave', 'address2': ''...</td>\n",
       "      <td>+17325432484</td>\n",
       "      <td>(732) 543-2484</td>\n",
       "      <td>2724.977914</td>\n",
       "    </tr>\n",
       "    <tr>\n",
       "      <th>1</th>\n",
       "      <td>nMU0vP0BNmc-tDtoa2u_6w</td>\n",
       "      <td>98k-hamburger-edison</td>\n",
       "      <td>98k Hamburger</td>\n",
       "      <td>https://s3-media2.fl.yelpcdn.com/bphoto/2XrCL0...</td>\n",
       "      <td>False</td>\n",
       "      <td>https://www.yelp.com/biz/98k-hamburger-edison?...</td>\n",
       "      <td>5</td>\n",
       "      <td>[{'alias': 'chicken_wings', 'title': 'Chicken ...</td>\n",
       "      <td>4.0</td>\n",
       "      <td>{'latitude': 40.5151054, 'longitude': -74.4032...</td>\n",
       "      <td>[pickup, delivery]</td>\n",
       "      <td>NaN</td>\n",
       "      <td>{'address1': '1857 Lincoln Hwy', 'address2': '...</td>\n",
       "      <td>+17322028998</td>\n",
       "      <td>(732) 202-8998</td>\n",
       "      <td>406.606325</td>\n",
       "    </tr>\n",
       "    <tr>\n",
       "      <th>2</th>\n",
       "      <td>IOyhF0TRcIFm5dwdIsUjVA</td>\n",
       "      <td>diesel-and-duke-new-brunswick-2</td>\n",
       "      <td>Diesel and Duke</td>\n",
       "      <td>https://s3-media2.fl.yelpcdn.com/bphoto/zxwFwg...</td>\n",
       "      <td>False</td>\n",
       "      <td>https://www.yelp.com/biz/diesel-and-duke-new-b...</td>\n",
       "      <td>207</td>\n",
       "      <td>[{'alias': 'burgers', 'title': 'Burgers'}]</td>\n",
       "      <td>4.5</td>\n",
       "      <td>{'latitude': 40.4997241, 'longitude': -74.4532...</td>\n",
       "      <td>[pickup, delivery]</td>\n",
       "      <td>$</td>\n",
       "      <td>{'address1': '139 Easton Ave', 'address2': Non...</td>\n",
       "      <td>+17322461001</td>\n",
       "      <td>(732) 246-1001</td>\n",
       "      <td>4865.765785</td>\n",
       "    </tr>\n",
       "    <tr>\n",
       "      <th>3</th>\n",
       "      <td>ao9q86jxXnHFbanIyUYbvQ</td>\n",
       "      <td>tommys-tavern-tap-edison-2</td>\n",
       "      <td>Tommy's Tavern + Tap</td>\n",
       "      <td>https://s3-media4.fl.yelpcdn.com/bphoto/5Qt7lG...</td>\n",
       "      <td>False</td>\n",
       "      <td>https://www.yelp.com/biz/tommys-tavern-tap-edi...</td>\n",
       "      <td>74</td>\n",
       "      <td>[{'alias': 'tradamerican', 'title': 'American ...</td>\n",
       "      <td>4.0</td>\n",
       "      <td>{'latitude': 40.517133076968214, 'longitude': ...</td>\n",
       "      <td>[]</td>\n",
       "      <td>$$</td>\n",
       "      <td>{'address1': '1007 US-1', 'address2': '', 'add...</td>\n",
       "      <td>+17329022701</td>\n",
       "      <td>(732) 902-2701</td>\n",
       "      <td>2322.428159</td>\n",
       "    </tr>\n",
       "    <tr>\n",
       "      <th>4</th>\n",
       "      <td>sDFz3CorqCqxTL9_HFPRMg</td>\n",
       "      <td>white-rose-hamburgers-highland-park-2</td>\n",
       "      <td>White Rose Hamburgers</td>\n",
       "      <td>https://s3-media4.fl.yelpcdn.com/bphoto/qX4dGA...</td>\n",
       "      <td>False</td>\n",
       "      <td>https://www.yelp.com/biz/white-rose-hamburgers...</td>\n",
       "      <td>254</td>\n",
       "      <td>[{'alias': 'burgers', 'title': 'Burgers'}]</td>\n",
       "      <td>4.0</td>\n",
       "      <td>{'latitude': 40.502314, 'longitude': -74.415314}</td>\n",
       "      <td>[pickup, delivery]</td>\n",
       "      <td>$</td>\n",
       "      <td>{'address1': '154 Woodbridge Ave', 'address2':...</td>\n",
       "      <td>+17327771881</td>\n",
       "      <td>(732) 777-1881</td>\n",
       "      <td>1895.811905</td>\n",
       "    </tr>\n",
       "  </tbody>\n",
       "</table>\n",
       "</div>"
      ],
      "text/plain": [
       "                       id                                  alias  \\\n",
       "0  hmrXk8jrLredlvQmcYtvjA              418-burgers-highland-park   \n",
       "1  nMU0vP0BNmc-tDtoa2u_6w                   98k-hamburger-edison   \n",
       "2  IOyhF0TRcIFm5dwdIsUjVA        diesel-and-duke-new-brunswick-2   \n",
       "3  ao9q86jxXnHFbanIyUYbvQ             tommys-tavern-tap-edison-2   \n",
       "4  sDFz3CorqCqxTL9_HFPRMg  white-rose-hamburgers-highland-park-2   \n",
       "\n",
       "                    name                                          image_url  \\\n",
       "0            418 Burgers  https://s3-media4.fl.yelpcdn.com/bphoto/Kyh-RB...   \n",
       "1          98k Hamburger  https://s3-media2.fl.yelpcdn.com/bphoto/2XrCL0...   \n",
       "2        Diesel and Duke  https://s3-media2.fl.yelpcdn.com/bphoto/zxwFwg...   \n",
       "3   Tommy's Tavern + Tap  https://s3-media4.fl.yelpcdn.com/bphoto/5Qt7lG...   \n",
       "4  White Rose Hamburgers  https://s3-media4.fl.yelpcdn.com/bphoto/qX4dGA...   \n",
       "\n",
       "   is_closed                                                url  review_count  \\\n",
       "0      False  https://www.yelp.com/biz/418-burgers-highland-...           202   \n",
       "1      False  https://www.yelp.com/biz/98k-hamburger-edison?...             5   \n",
       "2      False  https://www.yelp.com/biz/diesel-and-duke-new-b...           207   \n",
       "3      False  https://www.yelp.com/biz/tommys-tavern-tap-edi...            74   \n",
       "4      False  https://www.yelp.com/biz/white-rose-hamburgers...           254   \n",
       "\n",
       "                                          categories  rating  \\\n",
       "0  [{'alias': 'tradamerican', 'title': 'American ...     4.5   \n",
       "1  [{'alias': 'chicken_wings', 'title': 'Chicken ...     4.0   \n",
       "2         [{'alias': 'burgers', 'title': 'Burgers'}]     4.5   \n",
       "3  [{'alias': 'tradamerican', 'title': 'American ...     4.0   \n",
       "4         [{'alias': 'burgers', 'title': 'Burgers'}]     4.0   \n",
       "\n",
       "                                         coordinates        transactions  \\\n",
       "0  {'latitude': 40.49993610299, 'longitude': -74....  [pickup, delivery]   \n",
       "1  {'latitude': 40.5151054, 'longitude': -74.4032...  [pickup, delivery]   \n",
       "2  {'latitude': 40.4997241, 'longitude': -74.4532...  [pickup, delivery]   \n",
       "3  {'latitude': 40.517133076968214, 'longitude': ...                  []   \n",
       "4   {'latitude': 40.502314, 'longitude': -74.415314}  [pickup, delivery]   \n",
       "\n",
       "  price                                           location         phone  \\\n",
       "0     $  {'address1': '418 Raritan Ave', 'address2': ''...  +17325432484   \n",
       "1   NaN  {'address1': '1857 Lincoln Hwy', 'address2': '...  +17322028998   \n",
       "2     $  {'address1': '139 Easton Ave', 'address2': Non...  +17322461001   \n",
       "3    $$  {'address1': '1007 US-1', 'address2': '', 'add...  +17329022701   \n",
       "4     $  {'address1': '154 Woodbridge Ave', 'address2':...  +17327771881   \n",
       "\n",
       "    display_phone     distance  \n",
       "0  (732) 543-2484  2724.977914  \n",
       "1  (732) 202-8998   406.606325  \n",
       "2  (732) 246-1001  4865.765785  \n",
       "3  (732) 902-2701  2322.428159  \n",
       "4  (732) 777-1881  1895.811905  "
      ]
     },
     "metadata": {},
     "output_type": "display_data"
    },
    {
     "data": {
      "text/html": [
       "<div>\n",
       "<style scoped>\n",
       "    .dataframe tbody tr th:only-of-type {\n",
       "        vertical-align: middle;\n",
       "    }\n",
       "\n",
       "    .dataframe tbody tr th {\n",
       "        vertical-align: top;\n",
       "    }\n",
       "\n",
       "    .dataframe thead th {\n",
       "        text-align: right;\n",
       "    }\n",
       "</style>\n",
       "<table border=\"1\" class=\"dataframe\">\n",
       "  <thead>\n",
       "    <tr style=\"text-align: right;\">\n",
       "      <th></th>\n",
       "      <th>id</th>\n",
       "      <th>alias</th>\n",
       "      <th>name</th>\n",
       "      <th>image_url</th>\n",
       "      <th>is_closed</th>\n",
       "      <th>url</th>\n",
       "      <th>review_count</th>\n",
       "      <th>categories</th>\n",
       "      <th>rating</th>\n",
       "      <th>coordinates</th>\n",
       "      <th>transactions</th>\n",
       "      <th>price</th>\n",
       "      <th>location</th>\n",
       "      <th>phone</th>\n",
       "      <th>display_phone</th>\n",
       "      <th>distance</th>\n",
       "    </tr>\n",
       "  </thead>\n",
       "  <tbody>\n",
       "    <tr>\n",
       "      <th>429</th>\n",
       "      <td>wh5_74yMCk3fB4jJ5S7YOA</td>\n",
       "      <td>bagel-market-and-deli-somerset</td>\n",
       "      <td>Bagel Market and Deli</td>\n",
       "      <td>https://s3-media3.fl.yelpcdn.com/bphoto/RoICq0...</td>\n",
       "      <td>False</td>\n",
       "      <td>https://www.yelp.com/biz/bagel-market-and-deli...</td>\n",
       "      <td>65</td>\n",
       "      <td>[{'alias': 'delis', 'title': 'Delis'}, {'alias...</td>\n",
       "      <td>3.5</td>\n",
       "      <td>{'latitude': 40.51094, 'longitude': -74.485065}</td>\n",
       "      <td>[delivery, pickup]</td>\n",
       "      <td>$</td>\n",
       "      <td>{'address1': '900 Easton Ave', 'address2': '',...</td>\n",
       "      <td>+17324480440</td>\n",
       "      <td>(732) 448-0440</td>\n",
       "      <td>7305.637962</td>\n",
       "    </tr>\n",
       "    <tr>\n",
       "      <th>430</th>\n",
       "      <td>-qTa6tVuQ2NyovjSVjGryA</td>\n",
       "      <td>vinnies-pizza-and-subs-east-brunswick</td>\n",
       "      <td>Vinnie's Pizza &amp; Subs</td>\n",
       "      <td>https://s3-media3.fl.yelpcdn.com/bphoto/3suTCz...</td>\n",
       "      <td>False</td>\n",
       "      <td>https://www.yelp.com/biz/vinnies-pizza-and-sub...</td>\n",
       "      <td>79</td>\n",
       "      <td>[{'alias': 'pizza', 'title': 'Pizza'}, {'alias...</td>\n",
       "      <td>3.0</td>\n",
       "      <td>{'latitude': 40.435424, 'longitude': -74.422942}</td>\n",
       "      <td>[delivery, pickup]</td>\n",
       "      <td>$</td>\n",
       "      <td>{'address1': '429 Ryders Ln', 'address2': '', ...</td>\n",
       "      <td>+17322571111</td>\n",
       "      <td>(732) 257-1111</td>\n",
       "      <td>8934.226795</td>\n",
       "    </tr>\n",
       "    <tr>\n",
       "      <th>431</th>\n",
       "      <td>TLJtWmg_wivqREGLG6pNnA</td>\n",
       "      <td>bagel-bazaar-deli-gril-and-catering-piscataway</td>\n",
       "      <td>Bagel Bazaar Deli Gril &amp; Catering</td>\n",
       "      <td>https://s3-media3.fl.yelpcdn.com/bphoto/kL-4s3...</td>\n",
       "      <td>False</td>\n",
       "      <td>https://www.yelp.com/biz/bagel-bazaar-deli-gri...</td>\n",
       "      <td>44</td>\n",
       "      <td>[{'alias': 'bagels', 'title': 'Bagels'}, {'ali...</td>\n",
       "      <td>4.0</td>\n",
       "      <td>{'latitude': 40.580493, 'longitude': -74.455182}</td>\n",
       "      <td>[delivery, pickup]</td>\n",
       "      <td>$</td>\n",
       "      <td>{'address1': '474 S Washington Ave', 'address2...</td>\n",
       "      <td>+17326297800</td>\n",
       "      <td>(732) 629-7800</td>\n",
       "      <td>8824.442354</td>\n",
       "    </tr>\n",
       "    <tr>\n",
       "      <th>432</th>\n",
       "      <td>rB_vf8FVsyUD_-HsoYzDSA</td>\n",
       "      <td>nunzios-pizzeria-iselin</td>\n",
       "      <td>Nunzio's Pizzeria</td>\n",
       "      <td>https://s3-media2.fl.yelpcdn.com/bphoto/X-GKS3...</td>\n",
       "      <td>False</td>\n",
       "      <td>https://www.yelp.com/biz/nunzios-pizzeria-isel...</td>\n",
       "      <td>75</td>\n",
       "      <td>[{'alias': 'pizza', 'title': 'Pizza'}, {'alias...</td>\n",
       "      <td>3.5</td>\n",
       "      <td>{'latitude': 40.560805, 'longitude': -74.309481}</td>\n",
       "      <td>[delivery, pickup]</td>\n",
       "      <td>$</td>\n",
       "      <td>{'address1': '675 Rte 1 S', 'address2': None, ...</td>\n",
       "      <td>+17327500990</td>\n",
       "      <td>(732) 750-0990</td>\n",
       "      <td>9176.742974</td>\n",
       "    </tr>\n",
       "    <tr>\n",
       "      <th>433</th>\n",
       "      <td>jLdBrLwji5fGBBAjuxrutw</td>\n",
       "      <td>upper-crust-woodbridge-township</td>\n",
       "      <td>Upper Crust</td>\n",
       "      <td>https://s3-media1.fl.yelpcdn.com/bphoto/vG3IO5...</td>\n",
       "      <td>False</td>\n",
       "      <td>https://www.yelp.com/biz/upper-crust-woodbridg...</td>\n",
       "      <td>16</td>\n",
       "      <td>[{'alias': 'salad', 'title': 'Salad'}, {'alias...</td>\n",
       "      <td>2.5</td>\n",
       "      <td>{'latitude': 40.5692367553711, 'longitude': -7...</td>\n",
       "      <td>[delivery]</td>\n",
       "      <td>$$</td>\n",
       "      <td>{'address1': '37 Gill Ln', 'address2': '', 'ad...</td>\n",
       "      <td>+17325270104</td>\n",
       "      <td>(732) 527-0104</td>\n",
       "      <td>8880.522219</td>\n",
       "    </tr>\n",
       "  </tbody>\n",
       "</table>\n",
       "</div>"
      ],
      "text/plain": [
       "                         id                                           alias  \\\n",
       "429  wh5_74yMCk3fB4jJ5S7YOA                  bagel-market-and-deli-somerset   \n",
       "430  -qTa6tVuQ2NyovjSVjGryA           vinnies-pizza-and-subs-east-brunswick   \n",
       "431  TLJtWmg_wivqREGLG6pNnA  bagel-bazaar-deli-gril-and-catering-piscataway   \n",
       "432  rB_vf8FVsyUD_-HsoYzDSA                         nunzios-pizzeria-iselin   \n",
       "433  jLdBrLwji5fGBBAjuxrutw                 upper-crust-woodbridge-township   \n",
       "\n",
       "                                  name  \\\n",
       "429              Bagel Market and Deli   \n",
       "430              Vinnie's Pizza & Subs   \n",
       "431  Bagel Bazaar Deli Gril & Catering   \n",
       "432                  Nunzio's Pizzeria   \n",
       "433                        Upper Crust   \n",
       "\n",
       "                                             image_url  is_closed  \\\n",
       "429  https://s3-media3.fl.yelpcdn.com/bphoto/RoICq0...      False   \n",
       "430  https://s3-media3.fl.yelpcdn.com/bphoto/3suTCz...      False   \n",
       "431  https://s3-media3.fl.yelpcdn.com/bphoto/kL-4s3...      False   \n",
       "432  https://s3-media2.fl.yelpcdn.com/bphoto/X-GKS3...      False   \n",
       "433  https://s3-media1.fl.yelpcdn.com/bphoto/vG3IO5...      False   \n",
       "\n",
       "                                                   url  review_count  \\\n",
       "429  https://www.yelp.com/biz/bagel-market-and-deli...            65   \n",
       "430  https://www.yelp.com/biz/vinnies-pizza-and-sub...            79   \n",
       "431  https://www.yelp.com/biz/bagel-bazaar-deli-gri...            44   \n",
       "432  https://www.yelp.com/biz/nunzios-pizzeria-isel...            75   \n",
       "433  https://www.yelp.com/biz/upper-crust-woodbridg...            16   \n",
       "\n",
       "                                            categories  rating  \\\n",
       "429  [{'alias': 'delis', 'title': 'Delis'}, {'alias...     3.5   \n",
       "430  [{'alias': 'pizza', 'title': 'Pizza'}, {'alias...     3.0   \n",
       "431  [{'alias': 'bagels', 'title': 'Bagels'}, {'ali...     4.0   \n",
       "432  [{'alias': 'pizza', 'title': 'Pizza'}, {'alias...     3.5   \n",
       "433  [{'alias': 'salad', 'title': 'Salad'}, {'alias...     2.5   \n",
       "\n",
       "                                           coordinates        transactions  \\\n",
       "429    {'latitude': 40.51094, 'longitude': -74.485065}  [delivery, pickup]   \n",
       "430   {'latitude': 40.435424, 'longitude': -74.422942}  [delivery, pickup]   \n",
       "431   {'latitude': 40.580493, 'longitude': -74.455182}  [delivery, pickup]   \n",
       "432   {'latitude': 40.560805, 'longitude': -74.309481}  [delivery, pickup]   \n",
       "433  {'latitude': 40.5692367553711, 'longitude': -7...          [delivery]   \n",
       "\n",
       "    price                                           location         phone  \\\n",
       "429     $  {'address1': '900 Easton Ave', 'address2': '',...  +17324480440   \n",
       "430     $  {'address1': '429 Ryders Ln', 'address2': '', ...  +17322571111   \n",
       "431     $  {'address1': '474 S Washington Ave', 'address2...  +17326297800   \n",
       "432     $  {'address1': '675 Rte 1 S', 'address2': None, ...  +17327500990   \n",
       "433    $$  {'address1': '37 Gill Ln', 'address2': '', 'ad...  +17325270104   \n",
       "\n",
       "      display_phone     distance  \n",
       "429  (732) 448-0440  7305.637962  \n",
       "430  (732) 257-1111  8934.226795  \n",
       "431  (732) 629-7800  8824.442354  \n",
       "432  (732) 750-0990  9176.742974  \n",
       "433  (732) 527-0104  8880.522219  "
      ]
     },
     "metadata": {},
     "output_type": "display_data"
    }
   ],
   "source": [
    "# load final results\n",
    "final_df = pd.read_json(JSON_FILE)\n",
    "display(final_df.head(), final_df.tail())"
   ]
  },
  {
   "cell_type": "code",
   "execution_count": 15,
   "id": "e76fcc8e",
   "metadata": {},
   "outputs": [
    {
     "data": {
      "text/plain": [
       "1"
      ]
     },
     "execution_count": 15,
     "metadata": {},
     "output_type": "execute_result"
    }
   ],
   "source": [
    "# check for duplicate IDs\n",
    "final_df.duplicated(subset='id').sum()"
   ]
  },
  {
   "cell_type": "code",
   "execution_count": 16,
   "id": "9a176b9c",
   "metadata": {},
   "outputs": [],
   "source": [
    "# save the final results to a compressed csv\n",
    "final_df.to_csv('C:\\\\Users\\\\alackey\\\\Data\\\\final_results_burger.csv.gz', compression='gzip',index=False)"
   ]
  },
  {
   "cell_type": "code",
   "execution_count": null,
   "id": "10af5450",
   "metadata": {},
   "outputs": [],
   "source": []
  }
 ],
 "metadata": {
  "kernelspec": {
   "display_name": "Python (dojo-env)",
   "language": "python",
   "name": "dojo-env"
  },
  "language_info": {
   "codemirror_mode": {
    "name": "ipython",
    "version": 3
   },
   "file_extension": ".py",
   "mimetype": "text/x-python",
   "name": "python",
   "nbconvert_exporter": "python",
   "pygments_lexer": "ipython3",
   "version": "3.8.13"
  },
  "toc": {
   "base_numbering": 1,
   "nav_menu": {},
   "number_sections": true,
   "sideBar": true,
   "skip_h1_title": false,
   "title_cell": "Table of Contents",
   "title_sidebar": "Contents",
   "toc_cell": false,
   "toc_position": {},
   "toc_section_display": true,
   "toc_window_display": false
  }
 },
 "nbformat": 4,
 "nbformat_minor": 5
}
